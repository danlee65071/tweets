{
  "nbformat": 4,
  "nbformat_minor": 0,
  "metadata": {
    "colab": {
      "name": "Untitled1.ipynb",
      "provenance": [],
      "collapsed_sections": []
    },
    "kernelspec": {
      "name": "python3",
      "display_name": "Python 3"
    },
    "language_info": {
      "name": "python"
    }
  },
  "cells": [
    {
      "cell_type": "code",
      "execution_count": 79,
      "metadata": {
        "colab": {
          "base_uri": "https://localhost:8080/"
        },
        "id": "e-kq1yh2pV-Q",
        "outputId": "b80d20d7-6446-420a-8485-6bf858ede11a"
      },
      "outputs": [
        {
          "output_type": "stream",
          "name": "stderr",
          "text": [
            "[nltk_data] Downloading package stopwords to /root/nltk_data...\n",
            "[nltk_data]   Package stopwords is already up-to-date!\n"
          ]
        },
        {
          "output_type": "execute_result",
          "data": {
            "text/plain": [
              "True"
            ]
          },
          "metadata": {},
          "execution_count": 79
        }
      ],
      "source": [
        "import pandas as pd\n",
        "import numpy as np\n",
        "import matplotlib.pyplot as plt\n",
        "\n",
        "from sklearn.preprocessing import OneHotEncoder\n",
        "from sklearn.model_selection import train_test_split\n",
        "from sklearn.metrics import accuracy_score, precision_score, recall_score\n",
        "\n",
        "import nltk\n",
        "from nltk.corpus import stopwords\n",
        "from nltk.tokenize.casual import casual_tokenize\n",
        "\n",
        "from gensim.parsing.preprocessing import preprocess_documents\n",
        "from gensim.models.phrases import Phraser\n",
        "from gensim.models import Phrases\n",
        "\n",
        "nltk.download('stopwords')"
      ]
    },
    {
      "cell_type": "markdown",
      "source": [
        "# Load data"
      ],
      "metadata": {
        "id": "dJZxxJXGwqW2"
      }
    },
    {
      "cell_type": "code",
      "source": [
        "df_neg = pd.read_csv('processedNegative.csv').T\n",
        "df_neutral = pd.read_csv('processedNeutral.csv').T\n",
        "df_positive = pd.read_csv('processedPositive.csv').T"
      ],
      "metadata": {
        "id": "AVUdJNUbwnsH"
      },
      "execution_count": 7,
      "outputs": []
    },
    {
      "cell_type": "code",
      "source": [
        "df_neg['sentiment'] = [-1 for i in range(df_neg.shape[0])]\n",
        "df_neutral['sentiment'] = [0 for i in range(df_neutral.shape[0])]\n",
        "df_positive['sentiment'] = [1 for i in range(df_positive.shape[0])]"
      ],
      "metadata": {
        "id": "469CNEebw4Zy"
      },
      "execution_count": 89,
      "outputs": []
    },
    {
      "cell_type": "markdown",
      "source": [
        "# Join data"
      ],
      "metadata": {
        "id": "B-hq5kCpznq4"
      }
    },
    {
      "cell_type": "code",
      "source": [
        "df = pd.concat([df_neg, df_neutral, df_positive]).reset_index()\n",
        "df.rename(columns={'index': 'text'}, inplace=True)\n",
        "df"
      ],
      "metadata": {
        "colab": {
          "base_uri": "https://localhost:8080/",
          "height": 424
        },
        "id": "tkWX3gQGx0Zo",
        "outputId": "dc0bd7dc-5268-4c4f-f73f-b3ab094ed38a"
      },
      "execution_count": 90,
      "outputs": [
        {
          "output_type": "execute_result",
          "data": {
            "text/plain": [
              "                                                   text  sentiment\n",
              "0                 How unhappy  some dogs like it though         -1\n",
              "1     talking to my over driver about where I'm goin...         -1\n",
              "2     Does anybody know if the Rand's likely to fall...         -1\n",
              "3            I miss going to gigs in Liverpool unhappy          -1\n",
              "4         There isnt a new Riverdale tonight ? unhappy          -1\n",
              "...                                                 ...        ...\n",
              "3868  Thanks for the recent follow Happy to connect ...          1\n",
              "3869              - top engaged members this week happy          1\n",
              "3870  ngam to  weeks left for cadet pilot exam cryin...          1\n",
              "3871            Great! You're welcome Josh happy  ^Adam          1\n",
              "3872  Sixth spot not applicable Team! Higher pa! :)K...          1\n",
              "\n",
              "[3873 rows x 2 columns]"
            ],
            "text/html": [
              "\n",
              "  <div id=\"df-56a44c5b-6242-4500-a5d0-9abeeafade65\">\n",
              "    <div class=\"colab-df-container\">\n",
              "      <div>\n",
              "<style scoped>\n",
              "    .dataframe tbody tr th:only-of-type {\n",
              "        vertical-align: middle;\n",
              "    }\n",
              "\n",
              "    .dataframe tbody tr th {\n",
              "        vertical-align: top;\n",
              "    }\n",
              "\n",
              "    .dataframe thead th {\n",
              "        text-align: right;\n",
              "    }\n",
              "</style>\n",
              "<table border=\"1\" class=\"dataframe\">\n",
              "  <thead>\n",
              "    <tr style=\"text-align: right;\">\n",
              "      <th></th>\n",
              "      <th>text</th>\n",
              "      <th>sentiment</th>\n",
              "    </tr>\n",
              "  </thead>\n",
              "  <tbody>\n",
              "    <tr>\n",
              "      <th>0</th>\n",
              "      <td>How unhappy  some dogs like it though</td>\n",
              "      <td>-1</td>\n",
              "    </tr>\n",
              "    <tr>\n",
              "      <th>1</th>\n",
              "      <td>talking to my over driver about where I'm goin...</td>\n",
              "      <td>-1</td>\n",
              "    </tr>\n",
              "    <tr>\n",
              "      <th>2</th>\n",
              "      <td>Does anybody know if the Rand's likely to fall...</td>\n",
              "      <td>-1</td>\n",
              "    </tr>\n",
              "    <tr>\n",
              "      <th>3</th>\n",
              "      <td>I miss going to gigs in Liverpool unhappy</td>\n",
              "      <td>-1</td>\n",
              "    </tr>\n",
              "    <tr>\n",
              "      <th>4</th>\n",
              "      <td>There isnt a new Riverdale tonight ? unhappy</td>\n",
              "      <td>-1</td>\n",
              "    </tr>\n",
              "    <tr>\n",
              "      <th>...</th>\n",
              "      <td>...</td>\n",
              "      <td>...</td>\n",
              "    </tr>\n",
              "    <tr>\n",
              "      <th>3868</th>\n",
              "      <td>Thanks for the recent follow Happy to connect ...</td>\n",
              "      <td>1</td>\n",
              "    </tr>\n",
              "    <tr>\n",
              "      <th>3869</th>\n",
              "      <td>- top engaged members this week happy</td>\n",
              "      <td>1</td>\n",
              "    </tr>\n",
              "    <tr>\n",
              "      <th>3870</th>\n",
              "      <td>ngam to  weeks left for cadet pilot exam cryin...</td>\n",
              "      <td>1</td>\n",
              "    </tr>\n",
              "    <tr>\n",
              "      <th>3871</th>\n",
              "      <td>Great! You're welcome Josh happy  ^Adam</td>\n",
              "      <td>1</td>\n",
              "    </tr>\n",
              "    <tr>\n",
              "      <th>3872</th>\n",
              "      <td>Sixth spot not applicable Team! Higher pa! :)K...</td>\n",
              "      <td>1</td>\n",
              "    </tr>\n",
              "  </tbody>\n",
              "</table>\n",
              "<p>3873 rows × 2 columns</p>\n",
              "</div>\n",
              "      <button class=\"colab-df-convert\" onclick=\"convertToInteractive('df-56a44c5b-6242-4500-a5d0-9abeeafade65')\"\n",
              "              title=\"Convert this dataframe to an interactive table.\"\n",
              "              style=\"display:none;\">\n",
              "        \n",
              "  <svg xmlns=\"http://www.w3.org/2000/svg\" height=\"24px\"viewBox=\"0 0 24 24\"\n",
              "       width=\"24px\">\n",
              "    <path d=\"M0 0h24v24H0V0z\" fill=\"none\"/>\n",
              "    <path d=\"M18.56 5.44l.94 2.06.94-2.06 2.06-.94-2.06-.94-.94-2.06-.94 2.06-2.06.94zm-11 1L8.5 8.5l.94-2.06 2.06-.94-2.06-.94L8.5 2.5l-.94 2.06-2.06.94zm10 10l.94 2.06.94-2.06 2.06-.94-2.06-.94-.94-2.06-.94 2.06-2.06.94z\"/><path d=\"M17.41 7.96l-1.37-1.37c-.4-.4-.92-.59-1.43-.59-.52 0-1.04.2-1.43.59L10.3 9.45l-7.72 7.72c-.78.78-.78 2.05 0 2.83L4 21.41c.39.39.9.59 1.41.59.51 0 1.02-.2 1.41-.59l7.78-7.78 2.81-2.81c.8-.78.8-2.07 0-2.86zM5.41 20L4 18.59l7.72-7.72 1.47 1.35L5.41 20z\"/>\n",
              "  </svg>\n",
              "      </button>\n",
              "      \n",
              "  <style>\n",
              "    .colab-df-container {\n",
              "      display:flex;\n",
              "      flex-wrap:wrap;\n",
              "      gap: 12px;\n",
              "    }\n",
              "\n",
              "    .colab-df-convert {\n",
              "      background-color: #E8F0FE;\n",
              "      border: none;\n",
              "      border-radius: 50%;\n",
              "      cursor: pointer;\n",
              "      display: none;\n",
              "      fill: #1967D2;\n",
              "      height: 32px;\n",
              "      padding: 0 0 0 0;\n",
              "      width: 32px;\n",
              "    }\n",
              "\n",
              "    .colab-df-convert:hover {\n",
              "      background-color: #E2EBFA;\n",
              "      box-shadow: 0px 1px 2px rgba(60, 64, 67, 0.3), 0px 1px 3px 1px rgba(60, 64, 67, 0.15);\n",
              "      fill: #174EA6;\n",
              "    }\n",
              "\n",
              "    [theme=dark] .colab-df-convert {\n",
              "      background-color: #3B4455;\n",
              "      fill: #D2E3FC;\n",
              "    }\n",
              "\n",
              "    [theme=dark] .colab-df-convert:hover {\n",
              "      background-color: #434B5C;\n",
              "      box-shadow: 0px 1px 3px 1px rgba(0, 0, 0, 0.15);\n",
              "      filter: drop-shadow(0px 1px 2px rgba(0, 0, 0, 0.3));\n",
              "      fill: #FFFFFF;\n",
              "    }\n",
              "  </style>\n",
              "\n",
              "      <script>\n",
              "        const buttonEl =\n",
              "          document.querySelector('#df-56a44c5b-6242-4500-a5d0-9abeeafade65 button.colab-df-convert');\n",
              "        buttonEl.style.display =\n",
              "          google.colab.kernel.accessAllowed ? 'block' : 'none';\n",
              "\n",
              "        async function convertToInteractive(key) {\n",
              "          const element = document.querySelector('#df-56a44c5b-6242-4500-a5d0-9abeeafade65');\n",
              "          const dataTable =\n",
              "            await google.colab.kernel.invokeFunction('convertToInteractive',\n",
              "                                                     [key], {});\n",
              "          if (!dataTable) return;\n",
              "\n",
              "          const docLinkHtml = 'Like what you see? Visit the ' +\n",
              "            '<a target=\"_blank\" href=https://colab.research.google.com/notebooks/data_table.ipynb>data table notebook</a>'\n",
              "            + ' to learn more about interactive tables.';\n",
              "          element.innerHTML = '';\n",
              "          dataTable['output_type'] = 'display_data';\n",
              "          await google.colab.output.renderOutput(dataTable, element);\n",
              "          const docLink = document.createElement('div');\n",
              "          docLink.innerHTML = docLinkHtml;\n",
              "          element.appendChild(docLink);\n",
              "        }\n",
              "      </script>\n",
              "    </div>\n",
              "  </div>\n",
              "  "
            ]
          },
          "metadata": {},
          "execution_count": 90
        }
      ]
    },
    {
      "cell_type": "markdown",
      "source": [
        "# Look at data in graph"
      ],
      "metadata": {
        "id": "qFeu9Rtc0Uvy"
      }
    },
    {
      "cell_type": "code",
      "source": [
        "num_negative = df_neg.shape[0]\n",
        "num_neutral = df_neutral.shape[0]\n",
        "num_positive = df_positive.shape[0]\n",
        "plt.pie([num_negative, num_neutral, num_positive], labels=['negative', 'neutral', 'positive'], autopct='%.0f%%')\n",
        "None"
      ],
      "metadata": {
        "colab": {
          "base_uri": "https://localhost:8080/",
          "height": 248
        },
        "id": "AaQrH9Fo0Y8F",
        "outputId": "a9d73fa0-5175-4c96-88b9-6977b6ffc01a"
      },
      "execution_count": 91,
      "outputs": [
        {
          "output_type": "display_data",
          "data": {
            "text/plain": [
              "<Figure size 432x288 with 1 Axes>"
            ],
            "image/png": "[encoded data removed]"
          },
          "metadata": {}
        }
      ]
    },
    {
      "cell_type": "markdown",
      "source": [
        "# Just tokenization"
      ],
      "metadata": {
        "id": "G9osQlLP0Gru"
      }
    },
    {
      "cell_type": "code",
      "source": [
        "def tokenize_doc(doc):\n",
        "  return [casual_tokenize(text) for text in doc]\n",
        "\n",
        "def normalization(tokenize_doc):\n",
        "  return [[token.lower() for token in tokens] for tokens in tokenize_doc]\n",
        "\n",
        "def remove_stopwords(tokenize_doc):\n",
        "  stop_words = stopwords.words('english')\n",
        "  return [[token for token in tokens if token not in stop_words] for tokens in tokenize_doc]\n",
        "\n",
        "def make_bigrams(tokenize_doc):\n",
        "  bigrams_phrases = Phrases(tokenize_doc)\n",
        "  bigram = Phraser(bigrams_phrases)\n",
        "  doc_bigram = [bigram[text] for text in tokenize_doc]\n",
        "  return doc_bigram\n",
        "\n",
        "FILTERS = [tokenize_doc, normalization, remove_stopwords, make_bigrams]\n",
        "\n",
        "def preprocessing_doc(doc, filters=FILTERS):\n",
        "  for f in filters:\n",
        "    doc = f(doc)\n",
        "  return doc"
      ],
      "metadata": {
        "id": "hrpJKJccjWR5"
      },
      "execution_count": 97,
      "outputs": []
    },
    {
      "cell_type": "markdown",
      "source": [
        "## One hot"
      ],
      "metadata": {
        "id": "7ArtB8sbvjOf"
      }
    },
    {
      "cell_type": "code",
      "source": [
        "def onehot_vectorize(doc):\n",
        "  doc_seq = preprocessing_doc(doc)\n",
        "  vocab = set()\n",
        "  for token_seq in doc_seq:\n",
        "    for word in token_seq:\n",
        "      vocab.add(word)\n",
        "  vocab = sorted(vocab)\n",
        "  vocab_size = len(vocab)\n",
        "  onehot_vectors = np.zeros((len(doc), vocab_size), int)\n",
        "  for token_sequence in doc_seq:\n",
        "    for i, word in enumerate(token_sequence):\n",
        "      onehot_vectors[i, vocab.index(word)] = 1\n",
        "  return onehot_vectors\n"
      ],
      "metadata": {
        "id": "2deux_UCvHsU"
      },
      "execution_count": 106,
      "outputs": []
    },
    {
      "cell_type": "markdown",
      "source": [
        "### Split data on test and train parts "
      ],
      "metadata": {
        "id": "Gy4mq37xAJBl"
      }
    },
    {
      "cell_type": "code",
      "source": [
        "df_onehot = onehot_vectorize(df['text'])\n",
        "X_train_onehot, X_test_onehot, y_train, y_test = train_test_split(df_onehot, df['sentiment'], test_size=0.2, random_state=42, stratify=df['sentiment'])"
      ],
      "metadata": {
        "id": "bjA0nzfQAQcr"
      },
      "execution_count": 113,
      "outputs": []
    },
    {
      "cell_type": "markdown",
      "source": [
        "### Naive Bayes"
      ],
      "metadata": {
        "id": "HuiIS3r51l0b"
      }
    },
    {
      "cell_type": "code",
      "source": [
        "from sklearn.naive_bayes import MultinomialNB\n",
        "\n",
        "MNB_onehot = MultinomialNB()\n",
        "MNB_onehot.fit(X_train_onehot, y_train)\n",
        "mnb_onehot_pred = MNB_onehot.predict(X_test_onehot)\n",
        "print(f'accuracy: {accuracy_score(y_test, mnb_onehot_pred)}')"
      ],
      "metadata": {
        "colab": {
          "base_uri": "https://localhost:8080/"
        },
        "id": "2oT5DqeQ2YyT",
        "outputId": "f0e551c3-de15-4f52-bf18-47f8af30d8ee"
      },
      "execution_count": 127,
      "outputs": [
        {
          "output_type": "stream",
          "name": "stdout",
          "text": [
            "accuracy: 0.40903225806451615\n"
          ]
        }
      ]
    },
    {
      "cell_type": "markdown",
      "source": [
        "### KNN"
      ],
      "metadata": {
        "id": "iLa7BFD-Cg8h"
      }
    },
    {
      "cell_type": "code",
      "source": [
        "from sklearn.neighbors import KNeighborsClassifier\n",
        "\n",
        "KNN_onehot = KNeighborsClassifier()\n",
        "KNN_onehot.fit(X_train_onehot, y_train)\n",
        "KNN_onehot_pred = KNN_onehot.predict(X_test_onehot)\n",
        "print(f'accuracy: {accuracy_score(y_test, KNN_onehot_pred)}')"
      ],
      "metadata": {
        "colab": {
          "base_uri": "https://localhost:8080/"
        },
        "id": "IXWmUSYYCj6p",
        "outputId": "291acb28-b423-4800-eacb-b69214ceed66"
      },
      "execution_count": 128,
      "outputs": [
        {
          "output_type": "stream",
          "name": "stdout",
          "text": [
            "accuracy: 0.40903225806451615\n"
          ]
        }
      ]
    },
    {
      "cell_type": "markdown",
      "source": [
        "### Random forest"
      ],
      "metadata": {
        "id": "NErtxbkHDPWJ"
      }
    },
    {
      "cell_type": "code",
      "source": [
        "from sklearn.ensemble import RandomForestClassifier\n",
        "\n",
        "RF_onehot = RandomForestClassifier()\n",
        "RF_onehot.fit(X_train_onehot, y_train)\n",
        "RF_onehot_pred = RF_onehot.predict(X_test_onehot)\n",
        "print(f'accuracy: {accuracy_score(y_test, RF_onehot_pred)}')"
      ],
      "metadata": {
        "colab": {
          "base_uri": "https://localhost:8080/"
        },
        "id": "karz5NHlDO1d",
        "outputId": "15aa538a-53b7-4c75-e42e-e1f66ace56fc"
      },
      "execution_count": 129,
      "outputs": [
        {
          "output_type": "stream",
          "name": "stdout",
          "text": [
            "accuracy: 0.4129032258064516\n"
          ]
        }
      ]
    },
    {
      "cell_type": "markdown",
      "source": [
        "## Word counts"
      ],
      "metadata": {
        "id": "GErimVGDE1Lm"
      }
    },
    {
      "cell_type": "code",
      "source": [
        "from collections import Counter\n",
        "\n",
        "bags_of_words = []\n",
        "tokenize_doc = preprocessing_doc(df['text'])\n",
        "for text in tokenize_doc:\n",
        "  bags_of_words.append(Counter(text))\n",
        "df_bows = pd.DataFrame.from_records(bags_of_words).fillna(0).astype(int)\n"
      ],
      "metadata": {
        "id": "FGCLwNlQE6Rq"
      },
      "execution_count": 132,
      "outputs": []
    },
    {
      "cell_type": "markdown",
      "source": [
        "### Split data"
      ],
      "metadata": {
        "id": "ot3pVOPjGaNo"
      }
    },
    {
      "cell_type": "code",
      "source": [
        "X_train_count, X_test_count, y_train, y_test = train_test_split(df_bows, df['sentiment'], test_size=0.2, random_state=42, stratify=df['sentiment'])"
      ],
      "metadata": {
        "id": "-kMtHW4uGeqS"
      },
      "execution_count": 133,
      "outputs": []
    },
    {
      "cell_type": "markdown",
      "source": [
        "### Naive Byes"
      ],
      "metadata": {
        "id": "7MYoJIXxG1F3"
      }
    },
    {
      "cell_type": "code",
      "source": [
        "MNB_count = MultinomialNB()\n",
        "MNB_count.fit(X_train_count, y_train)\n",
        "MNB_count_pred = MNB_count.predict(X_test_count)\n",
        "print(f'accuracy: {accuracy_score(y_test, MNB_count_pred)}')"
      ],
      "metadata": {
        "colab": {
          "base_uri": "https://localhost:8080/"
        },
        "id": "o4ShFcR9G6AX",
        "outputId": "357ecd51-3caf-48af-b428-433c768d5659"
      },
      "execution_count": 136,
      "outputs": [
        {
          "output_type": "stream",
          "name": "stdout",
          "text": [
            "accuracy: 0.8941935483870967\n"
          ]
        }
      ]
    },
    {
      "cell_type": "markdown",
      "source": [
        "### KNN"
      ],
      "metadata": {
        "id": "MP6IX5x3HTyd"
      }
    },
    {
      "cell_type": "code",
      "source": [
        "KNN_count = KNeighborsClassifier()\n",
        "KNN_count.fit(X_train_count, y_train)\n",
        "KNN_count_pred = KNN_count.predict(X_test_count)\n",
        "print(f'accuracy: {accuracy_score(y_test, KNN_count_pred)}')"
      ],
      "metadata": {
        "colab": {
          "base_uri": "https://localhost:8080/"
        },
        "id": "Sd4tK821HWQQ",
        "outputId": "dcdd1515-2612-4b70-90ef-b75c47a6c76b"
      },
      "execution_count": 135,
      "outputs": [
        {
          "output_type": "stream",
          "name": "stdout",
          "text": [
            "accuracy: 0.8258064516129032\n"
          ]
        }
      ]
    },
    {
      "cell_type": "markdown",
      "source": [
        "### Random forest"
      ],
      "metadata": {
        "id": "Gg0uMqCuHp21"
      }
    },
    {
      "cell_type": "code",
      "source": [
        "RF_count = RandomForestClassifier()\n",
        "RF_count.fit(X_train_count, y_train)\n",
        "RF_count_pred = RF_count.predict(X_test_count)\n",
        "print(f'accuracy: {accuracy_score(y_test, RF_count_pred)}')"
      ],
      "metadata": {
        "colab": {
          "base_uri": "https://localhost:8080/"
        },
        "id": "97h_gHCzHtR3",
        "outputId": "858950f5-c10d-40fa-9509-3bbddaf249fa"
      },
      "execution_count": 137,
      "outputs": [
        {
          "output_type": "stream",
          "name": "stdout",
          "text": [
            "accuracy: 0.9032258064516129\n"
          ]
        }
      ]
    },
    {
      "cell_type": "markdown",
      "source": [
        "## TF-IDF"
      ],
      "metadata": {
        "id": "qYebUh5ZIXZQ"
      }
    },
    {
      "cell_type": "code",
      "source": [
        "from sklearn.feature_extraction.text import TfidfVectorizer"
      ],
      "metadata": {
        "id": "FlvW-DpnIcYh"
      },
      "execution_count": 139,
      "outputs": []
    },
    {
      "cell_type": "code",
      "source": [
        "X_train_preprocess = preprocess_documents(X_train)\n",
        "X_train_preprocess[:5]"
      ],
      "metadata": {
        "colab": {
          "base_uri": "https://localhost:8080/"
        },
        "id": "1rzn5GZTzl7s",
        "outputId": "783f32e3-d58b-41f2-b564-51be6e39f810"
      },
      "execution_count": 39,
      "outputs": [
        {
          "output_type": "execute_result",
          "data": {
            "text/plain": [
              "[['demonetis', 'note'],\n",
              " ['haha', 'thank', 'fansnim', 'happi'],\n",
              " ['review', 'lift', 'sanction', 'iran', 'tillerson'],\n",
              " ['great', 'trick', 'happi'],\n",
              " ['current',\n",
              "  'stand',\n",
              "  'outsid',\n",
              "  'shard',\n",
              "  'bag',\n",
              "  'bottl',\n",
              "  'came',\n",
              "  'work',\n",
              "  'tom',\n",
              "  'todai',\n",
              "  'happi']]"
            ]
          },
          "metadata": {},
          "execution_count": 39
        }
      ]
    },
    {
      "cell_type": "code",
      "source": [
        ""
      ],
      "metadata": {
        "id": "xthG9lz87Xrp"
      },
      "execution_count": null,
      "outputs": []
    }
  ]
}